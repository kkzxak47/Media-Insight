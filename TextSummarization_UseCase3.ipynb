{
 "cells": [
  {
   "cell_type": "markdown",
   "metadata": {},
   "source": [
    "                                                * Downloading libraries *                                                                   "
   ]
  },
  {
   "cell_type": "code",
   "execution_count": null,
   "metadata": {},
   "outputs": [],
   "source": [
    "!pip3 install nltk rouge-score\n",
    "!pip3 install torch==2.1.0 torchtext==0.16.0  # Example, use versions compatible with each other\n",
    "!pip3 install pandas\n",
    "!pip3 install transformers"
   ]
  },
  {
   "cell_type": "code",
   "execution_count": 25,
   "metadata": {},
   "outputs": [
    {
     "name": "stderr",
     "output_type": "stream",
     "text": [
      "2681.33s - pydevd: Sending message related to process being replaced timed-out after 5 seconds\n"
     ]
    },
    {
     "name": "stdout",
     "output_type": "stream",
     "text": [
      "Defaulting to user installation because normal site-packages is not writeable\n",
      "Collecting sentencepiece\n",
      "  Downloading sentencepiece-0.2.0-cp39-cp39-macosx_11_0_arm64.whl (1.2 MB)\n",
      "\u001b[K     |████████████████████████████████| 1.2 MB 3.2 MB/s eta 0:00:01\n",
      "\u001b[?25hInstalling collected packages: sentencepiece\n",
      "Successfully installed sentencepiece-0.2.0\n",
      "\u001b[33mWARNING: You are using pip version 21.2.4; however, version 24.3.1 is available.\n",
      "You should consider upgrading via the '/Library/Developer/CommandLineTools/usr/bin/python3 -m pip install --upgrade pip' command.\u001b[0m\n"
     ]
    }
   ],
   "source": [
    "! pip3 install sentencepiece"
   ]
  },
  {
   "cell_type": "code",
   "execution_count": null,
   "metadata": {},
   "outputs": [],
   "source": [
    "!pip3 cache purge"
   ]
  },
  {
   "cell_type": "code",
   "execution_count": 10,
   "metadata": {},
   "outputs": [
    {
     "name": "stderr",
     "output_type": "stream",
     "text": [
      "/Users/shilpasingh/Library/Python/3.9/lib/python/site-packages/urllib3/__init__.py:35: NotOpenSSLWarning: urllib3 v2 only supports OpenSSL 1.1.1+, currently the 'ssl' module is compiled with 'LibreSSL 2.8.3'. See: https://github.com/urllib3/urllib3/issues/3020\n",
      "  warnings.warn(\n"
     ]
    },
    {
     "name": "stdout",
     "output_type": "stream",
     "text": [
      "2.1.0\n",
      "0.16.0\n"
     ]
    }
   ],
   "source": [
    "import torch\n",
    "import torchtext\n",
    "import sentencepiece as spm\n",
    "print(torch.__version__)\n",
    "print(torchtext.__version__)\n",
    "\n",
    "print(\"SentencePiece version:\", spm.__version__)"
   ]
  },
  {
   "cell_type": "markdown",
   "metadata": {},
   "source": [
    "                                                    Importing libraries                                                                 "
   ]
  },
  {
   "cell_type": "code",
   "execution_count": 22,
   "metadata": {},
   "outputs": [],
   "source": [
    "import torch\n",
    "import torch.nn as nn\n",
    "import torch.optim as optim\n",
    "import torch.nn.functional as F\n",
    "from torchtext.data.utils import get_tokenizer\n",
    "from torch.utils.data import Dataset, DataLoader\n",
    "import nltk\n",
    "from nltk.translate.bleu_score import sentence_bleu\n",
    "import random\n",
    "import numpy as np\n",
    "import pandas as pd\n",
    "from transformers import BartForConditionalGeneration, BartTokenizer\n",
    "from transformers import T5ForConditionalGeneration, T5Tokenizer\n"
   ]
  },
  {
   "cell_type": "markdown",
   "metadata": {},
   "source": [
    "                                        Creating Sample Dataset                                                                     "
   ]
  },
  {
   "cell_type": "code",
   "execution_count": 16,
   "metadata": {},
   "outputs": [
    {
     "name": "stdout",
     "output_type": "stream",
     "text": [
      "                                                text  \\\n",
      "0  The quick brown fox jumps over the lazy dog. T...   \n",
      "1  Machine learning is a field of artificial inte...   \n",
      "2  Python is a popular programming language used ...   \n",
      "3  Climate change refers to long-term changes in ...   \n",
      "4  The human brain is an organ that serves as the...   \n",
      "\n",
      "                                           summary  \n",
      "0               The fox is fast and hard to catch.  \n",
      "1  Machine learning helps systems learn from data.  \n",
      "2          Python is a beginner-friendly language.  \n",
      "3    Climate change is caused by human activities.  \n",
      "4        The brain controls many bodily functions.  \n"
     ]
    }
   ],
   "source": [
    "# Sample dataset\n",
    "data = {\n",
    "    'text': [\n",
    "        \"The quick brown fox jumps over the lazy dog. The fox is very fast and quick, making it hard to catch.\",\n",
    "        \"Machine learning is a field of artificial intelligence that focuses on building systems that learn from data. It is widely used in applications like image recognition, speech processing, and recommendation systems.\",\n",
    "        \"Python is a popular programming language used for web development, data science, and scripting. Its syntax is simple and easy to learn, which makes it ideal for beginners.\",\n",
    "        \"Climate change refers to long-term changes in temperature and weather patterns. It is primarily caused by human activities, especially the burning of fossil fuels.\",\n",
    "        \"The human brain is an organ that serves as the center of the nervous system. It controls thoughts, memory, emotions, touch, motor skills, vision, breathing, and more.\"\n",
    "    ],\n",
    "    'summary': [\n",
    "        \"The fox is fast and hard to catch.\",\n",
    "        \"Machine learning helps systems learn from data.\",\n",
    "        \"Python is a beginner-friendly language.\",\n",
    "        \"Climate change is caused by human activities.\",\n",
    "        \"The brain controls many bodily functions.\"\n",
    "    ]\n",
    "}\n",
    "\n",
    "# Convert to DataFrame\n",
    "df = pd.DataFrame(data)\n",
    "\n",
    "# Show the first few rows\n",
    "print(df)\n",
    "\n"
   ]
  },
  {
   "cell_type": "markdown",
   "metadata": {},
   "source": [
    "                                    Exporting the above dataset to csv file                                                     "
   ]
  },
  {
   "cell_type": "code",
   "execution_count": 17,
   "metadata": {},
   "outputs": [],
   "source": [
    "df.to_csv(\"text_summary_data.csv\",index=False)"
   ]
  },
  {
   "cell_type": "code",
   "execution_count": null,
   "metadata": {},
   "outputs": [],
   "source": [
    "# Loading the dataset from csv\n",
    "def load_data(file_name):\n",
    "    df=pd.read_csv(file_name)\n",
    "    return df\n",
    "\n",
    "\n",
    "# Function to summarize text using T5\n",
    "def summarize_text_t5(text, model, tokenizer):\n",
    "    # Prepare the text for summarization\n",
    "    input_text = \"summarize: \" + text\n",
    "    inputs = tokenizer(input_text, return_tensors=\"pt\", max_length=512, truncation=True)\n",
    "    \n",
    "    # Generate summary ids\n",
    "    summary_ids = model.generate(inputs['input_ids'], max_length=150, min_length=30, length_penalty=2.0, num_beams=4, early_stopping=True)\n",
    "    \n",
    "    # Decode and return the summary\n",
    "    summary = tokenizer.decode(summary_ids[0], skip_special_tokens=True)\n",
    "    return summary\n",
    "\n",
    "# Main function to load data, summarize and compare\n",
    "def main():\n",
    "    \n",
    "    # Load the dataset from CSV\n",
    "    #df = load_data('text_summary_data.csv')\n",
    "    \n",
    "    \n",
    "    # Load the pre-trained T5 model and tokenizer\n",
    "    model_name = \"t5-small\"  # You can also use \"t5-base\" or \"t5-large\" for better performance\n",
    "    model = T5ForConditionalGeneration.from_pretrained(model_name)\n",
    "    tokenizer = T5Tokenizer.from_pretrained(model_name)\n",
    "\n",
    "    text = \"\"\"\n",
    "    Machine learning is a branch of artificial intelligence that focuses on building systems that can learn from data. \n",
    "    These systems are designed to improve their performance over time by identifying patterns in data and making predictions based on those patterns. \n",
    "    Machine learning has applications in various fields such as healthcare, finance, and robotics, and it plays a crucial role in the development of autonomous systems.\n",
    "    \"\"\"    \n",
    "    expected_summary=\"Machine learning is a branch of artificial intelligence and is useful in fields healthcare, finance, and robotics.\"\n",
    "\n",
    "        \n",
    "    # Summarize the text using BART\n",
    "    predicted_summary = summarize_text_t5(text, model, tokenizer)\n",
    "        \n",
    "    # Print the original text, expected summary, and predicted summary\n",
    "    print(f\"Original Text:\\n{text}\\n\")\n",
    "    print(f\"Original Summary:\\n{expected_summary}\\n\")\n",
    "    print(f\"Predicted Summary:\\n{predicted_summary}\\n\")\n",
    "    \n",
    "if __name__ == \"__main__\":\n",
    "    main()\n",
    "    "
   ]
  }
 ],
 "metadata": {
  "kernelspec": {
   "display_name": "Python 3",
   "language": "python",
   "name": "python3"
  },
  "language_info": {
   "codemirror_mode": {
    "name": "ipython",
    "version": 3
   },
   "file_extension": ".py",
   "mimetype": "text/x-python",
   "name": "python",
   "nbconvert_exporter": "python",
   "pygments_lexer": "ipython3",
   "version": "3.9.6"
  }
 },
 "nbformat": 4,
 "nbformat_minor": 2
}
